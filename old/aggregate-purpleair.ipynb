{
 "cells": [
  {
   "cell_type": "code",
   "execution_count": 6,
   "metadata": {},
   "outputs": [
    {
     "data": {
      "text/html": [
       "<style>#notebook-container { margin-left:-14px; width:calc(100% + 27px) !important; }</style>"
      ],
      "text/plain": [
       "<IPython.core.display.HTML object>"
      ]
     },
     "metadata": {},
     "output_type": "display_data"
    }
   ],
   "source": [
    "# Wide display\n",
    "from IPython.core.display import display, HTML\n",
    "display(HTML(\"<style>#notebook-container { margin-left:-14px; width:calc(100% + 27px) !important; }</style>\"))"
   ]
  },
  {
   "cell_type": "code",
   "execution_count": 12,
   "metadata": {
    "collapsed": true
   },
   "outputs": [],
   "source": [
    "import csv, datetime, fcntl, glob, json, math, os, re, subprocess, sys, time, urllib2, xml.dom.minidom\n",
    "from dateutil import rrule\n",
    "from dateutil import tz\n",
    "import dateutil.parser\n",
    "import numpy as np\n",
    "\n",
    "# To install dateutil on Ubuntu\n",
    "# sudo pip install python-dateutil\n",
    "\n",
    "def exec_ipynb(filename_or_url):\n",
    "    nb = (urllib2.urlopen(filename_or_url) if re.match(r'https?:', filename_or_url) else open(filename_or_url)).read()\n",
    "    jsonNb = json.loads(nb)\n",
    "    #check for the modified formatting of Jupyter Notebook v4\n",
    "    if(jsonNb['nbformat'] == 4):\n",
    "        exec '\\n'.join([''.join(cell['source']) for cell in jsonNb['cells'] if cell['cell_type'] == 'code']) in globals()\n",
    "    else:\n",
    "        exec '\\n'.join([''.join(cell['input']) for cell in jsonNb['worksheets'][0]['cells'] if cell['cell_type'] == 'code']) in globals()\n",
    "\n",
    "exec_ipynb('python-utils/esdr-library.ipynb')"
   ]
  },
  {
   "cell_type": "code",
   "execution_count": 2,
   "metadata": {},
   "outputs": [
    {
     "data": {
      "text/plain": [
       "{u'created': u'2017-11-20T15:17:13.000Z',\n",
       " u'creatorUserId': 3,\n",
       " u'defaultChannelSpecs': {},\n",
       " u'description': u'PurpleAir',\n",
       " u'id': 69,\n",
       " u'modified': u'2017-11-20T15:17:13.000Z',\n",
       " u'name': u'PurpleAir',\n",
       " u'prettyName': u'PurpleAir',\n",
       " u'vendor': u'PurpleAir'}"
      ]
     },
     "execution_count": 2,
     "metadata": {},
     "output_type": "execute_result"
    }
   ],
   "source": [
    "esdr = Esdr(None)\n",
    "product = esdr.get_product_by_name('PurpleAir')\n",
    "product"
   ]
  },
  {
   "cell_type": "code",
   "execution_count": 3,
   "metadata": {},
   "outputs": [
    {
     "name": "stdout",
     "output_type": "stream",
     "text": [
      "Retrieved 153 feeds\n",
      "First feed: {u'apiKeyReadOnly': u'2bd4d40a3059b5ef56a3f6a6b78386569da2c2580fcd5c42e497072119f7b79c', u'minTimeSecs': 1522247982.349, u'name': u'Monaca,PA PurpleAir', u'created': u'2018-03-28T14:51:40.000Z', u'isPublic': 1, u'userId': 3, u'modified': u'2018-08-30T13:39:59.000Z', u'longitude': -80.311057, u'channelBounds': {u'channels': {u'PM2_5': {u'maxTimeSecs': 1535635729.924, u'minTimeSecs': 1522247982.349, u'maxValue': 3810.59, u'minValue': 0}, u'stats_v': {u'maxTimeSecs': 1535635729.924, u'minTimeSecs': 1522247982.349, u'maxValue': 970.64, u'minValue': 0}, u'stats_pm': {u'maxTimeSecs': 1535635729.924, u'minTimeSecs': 1522247982.349, u'maxValue': 970.64, u'minValue': 0}, u'temp_f': {u'maxTimeSecs': 1535635729.924, u'minTimeSecs': 1522247982.349, u'maxValue': 104, u'minValue': 31}, u'humidity': {u'maxTimeSecs': 1535635729.924, u'minTimeSecs': 1522247982.349, u'maxValue': 84, u'minValue': 11}, u'pressure': {u'maxTimeSecs': 1535635729.924, u'minTimeSecs': 1522247982.349, u'maxValue': 991.5, u'minValue': 956.27}, u'stats_v6': {u'maxTimeSecs': 1535635729.924, u'minTimeSecs': 1522247982.349, u'maxValue': 20.72, u'minValue': 7.97}, u'stats_v4': {u'maxTimeSecs': 1535635729.924, u'minTimeSecs': 1522247982.349, u'maxValue': 61.8, u'minValue': 2.71}, u'stats_v5': {u'maxTimeSecs': 1535635729.924, u'minTimeSecs': 1522247982.349, u'maxValue': 31.71, u'minValue': 4.51}, u'stats_v2': {u'maxTimeSecs': 1535635729.924, u'minTimeSecs': 1522247982.349, u'maxValue': 137.6, u'minValue': 0.13}, u'stats_v3': {u'maxTimeSecs': 1535635729.924, u'minTimeSecs': 1522247982.349, u'maxValue': 108.58, u'minValue': 0.38}, u'stats_v1': {u'maxTimeSecs': 1535635729.924, u'minTimeSecs': 1522247982.349, u'maxValue': 263.4, u'minValue': 0.09}}, u'maxTimeSecs': 1535635729.924, u'minTimeSecs': 1522247982.349}, u'maxTimeSecs': 1535635729.924, u'channelSpecs': {}, u'deviceId': 17238, u'lastUpload': u'2018-08-30T13:39:59.000Z', u'latitude': 40.657411, u'exposure': u'outdoor', u'id': 17199, u'isMobile': 0, u'productId': 69}\n"
     ]
    }
   ],
   "source": [
    "feeds = []\n",
    "# Approx bounding box for Allegheny County\n",
    "region = 'latitude>40.192204,latitude<40.674084,longitude<-79.688618,longitude>-80.361022'\n",
    "offset = 0\n",
    "while True:\n",
    "    response = esdr.api('GET', '/api/v1/feeds', {'whereAnd' : 'productId=%d,%s' % (product['id'], region), 'offset': str(offset)})\n",
    "    data = response['data']\n",
    "    totalCount = data['totalCount']\n",
    "    nrecs = len(data['rows'])\n",
    "    feeds.extend(data['rows'])\n",
    "    limit = data['limit']\n",
    "    total_recvd = offset + nrecs\n",
    "    #print(offset, nrecs, limit, totalCount)\n",
    "    if total_recvd >= totalCount:\n",
    "        break\n",
    "    offset += nrecs\n",
    "\n",
    "print 'Retrieved %d feeds' % len(feeds)\n",
    "print 'First feed: %s' % feeds[0]"
   ]
  },
  {
   "cell_type": "code",
   "execution_count": 14,
   "metadata": {},
   "outputs": [
    {
     "name": "stdout",
     "output_type": "stream",
     "text": [
      "Feed 17984 has 63 samples\n"
     ]
    },
    {
     "ename": "TypeError",
     "evalue": "'float' object cannot be interpreted as an index",
     "output_type": "error",
     "traceback": [
      "\u001b[1;31m---------------------------------------------------------------------------\u001b[0m",
      "\u001b[1;31mTypeError\u001b[0m                                 Traceback (most recent call last)",
      "\u001b[1;32m<ipython-input-14-5d3b5477a6b6>\u001b[0m in \u001b[0;36m<module>\u001b[1;34m()\u001b[0m\n\u001b[0;32m     26\u001b[0m \u001b[1;33m\u001b[0m\u001b[0m\n\u001b[0;32m     27\u001b[0m \u001b[0mnbins\u001b[0m \u001b[1;33m=\u001b[0m \u001b[1;36m24\u001b[0m \u001b[1;33m*\u001b[0m \u001b[1;36m12\u001b[0m \u001b[1;31m# every 5 mins\u001b[0m\u001b[1;33m\u001b[0m\u001b[0m\n\u001b[1;32m---> 28\u001b[1;33m \u001b[0mcompute_row\u001b[0m\u001b[1;33m(\u001b[0m\u001b[0mfeeds\u001b[0m\u001b[1;33m[\u001b[0m\u001b[1;36m110\u001b[0m\u001b[1;33m]\u001b[0m\u001b[1;33m,\u001b[0m \u001b[0mnbins\u001b[0m\u001b[1;33m,\u001b[0m \u001b[1;36m1535515200\u001b[0m\u001b[1;33m,\u001b[0m \u001b[1;36m1535515200\u001b[0m\u001b[1;33m+\u001b[0m\u001b[1;36m86400\u001b[0m\u001b[1;33m)\u001b[0m\u001b[1;33m\u001b[0m\u001b[0m\n\u001b[0m",
      "\u001b[1;32m<ipython-input-14-5d3b5477a6b6>\u001b[0m in \u001b[0;36mcompute_row\u001b[1;34m(feed, nbins, from_epoch, to_epoch)\u001b[0m\n\u001b[0;32m     10\u001b[0m     \u001b[0mcounts\u001b[0m \u001b[1;33m=\u001b[0m \u001b[0mnp\u001b[0m\u001b[1;33m.\u001b[0m\u001b[0mzeros\u001b[0m\u001b[1;33m(\u001b[0m\u001b[0mnbins\u001b[0m\u001b[1;33m)\u001b[0m\u001b[1;33m\u001b[0m\u001b[0m\n\u001b[0;32m     11\u001b[0m     \u001b[1;32mfor\u001b[0m \u001b[0msample\u001b[0m \u001b[1;32min\u001b[0m \u001b[0mdata\u001b[0m\u001b[1;33m:\u001b[0m\u001b[1;33m\u001b[0m\u001b[0m\n\u001b[1;32m---> 12\u001b[1;33m         \u001b[0midx\u001b[0m \u001b[1;33m=\u001b[0m \u001b[0mbin\u001b[0m\u001b[1;33m(\u001b[0m\u001b[0msample\u001b[0m\u001b[1;33m[\u001b[0m\u001b[1;36m0\u001b[0m\u001b[1;33m]\u001b[0m\u001b[1;33m)\u001b[0m \u001b[1;33m-\u001b[0m \u001b[0mfirst_bin\u001b[0m\u001b[1;33m\u001b[0m\u001b[0m\n\u001b[0m\u001b[0;32m     13\u001b[0m         \u001b[0msums\u001b[0m\u001b[1;33m[\u001b[0m\u001b[0midx\u001b[0m\u001b[1;33m]\u001b[0m \u001b[1;33m+=\u001b[0m \u001b[0msample\u001b[0m\u001b[1;33m[\u001b[0m\u001b[1;36m1\u001b[0m\u001b[1;33m]\u001b[0m\u001b[1;33m\u001b[0m\u001b[0m\n\u001b[0;32m     14\u001b[0m         \u001b[0mcounts\u001b[0m\u001b[1;33m[\u001b[0m\u001b[0midx\u001b[0m\u001b[1;33m]\u001b[0m \u001b[1;33m+=\u001b[0m \u001b[1;36m1\u001b[0m\u001b[1;33m\u001b[0m\u001b[0m\n",
      "\u001b[1;31mTypeError\u001b[0m: 'float' object cannot be interpreted as an index"
     ]
    }
   ],
   "source": [
    "def compute_row(feed, nbins, from_epoch, to_epoch):\n",
    "    feed_id = feed['id']\n",
    "    export_url = 'https://esdr.cmucreatelab.org/api/v1/feeds/%d/channels/PM2_5/export?from=%d&to=%d&format=json' % (feed_id, from_epoch, to_epoch)\n",
    "    data = json.load(urllib2.urlopen(export_url))['data']\n",
    "    print('Feed %d has %d samples' % (feed_id, len(data)))\n",
    "    if len(data) == 0:\n",
    "        print('   No samples, skipping')\n",
    "        return None\n",
    "    sums = np.zeros(nbins)\n",
    "    counts = np.zeros(nbins)\n",
    "    for sample in data:\n",
    "        idx = bin(sample[0]) - first_bin\n",
    "        sums[idx] += sample[1]\n",
    "        counts[idx] += 1\n",
    "    dat = np.divide(sums, np.maximum(counts, 1))\n",
    "    if numpy.median(dat) == 0:\n",
    "        print('   Median is zero, skipping')\n",
    "        return None\n",
    "    print('   %f,%f,%f' % (numpy.min(dat), numpy.median(dat), numpy.max(dat)))\n",
    "    if numpy.min(dat) < -5000:\n",
    "        print('   Min is too low, skipping')\n",
    "        return None\n",
    "    dat -= numpy.median(dat)\n",
    "    row = ['feed_%d' % feed_id, feed['latitude'], feed['longitude']] + list(dat)\n",
    "    return ','.join([str(z) for z in row])\n",
    "\n",
    "nbins = 24 * 12 # every 5 mins\n",
    "compute_row(feeds[110], nbins, 1535515200, 1535515200+86400)"
   ]
  },
  {
   "cell_type": "code",
   "execution_count": 27,
   "metadata": {},
   "outputs": [
    {
     "data": {
      "text/plain": [
       "[u'totalCount', u'rows', u'limit', u'offset']"
      ]
     },
     "execution_count": 27,
     "metadata": {},
     "output_type": "execute_result"
    }
   ],
   "source": [
    "z['data'].keys()"
   ]
  },
  {
   "cell_type": "code",
   "execution_count": 19,
   "metadata": {},
   "outputs": [
    {
     "data": {
      "text/plain": [
       "array([ 1.,  2.,  3.,  4.,  5.], dtype=float32)"
      ]
     },
     "execution_count": 19,
     "metadata": {},
     "output_type": "execute_result"
    }
   ],
   "source": [
    "np.array([1.0,2,3,4,5]).astype(np.float32)"
   ]
  },
  {
   "cell_type": "code",
   "execution_count": 20,
   "metadata": {},
   "outputs": [
    {
     "data": {
      "text/plain": [
       "'\\x00\\x00\\x80?\\x00\\x00\\x00@\\x00\\x00@@\\x00\\x00\\x80@\\x00\\x00\\xa0@'"
      ]
     },
     "execution_count": 20,
     "metadata": {},
     "output_type": "execute_result"
    }
   ],
   "source": [
    "np.array([1.0,2,3,4,5]).astype(np.float32).tobytes()"
   ]
  },
  {
   "cell_type": "code",
   "execution_count": 24,
   "metadata": {},
   "outputs": [
    {
     "data": {
      "text/plain": [
       "'[1.0, 2.0, 3.0, 4.0, 5.0]'"
      ]
     },
     "execution_count": 24,
     "metadata": {},
     "output_type": "execute_result"
    }
   ],
   "source": [
    "json.dumps(list(np.array([1.0,2,3,4,5]).astype(np.float64)))"
   ]
  },
  {
   "cell_type": "code",
   "execution_count": null,
   "metadata": {
    "collapsed": true
   },
   "outputs": [],
   "source": []
  }
 ],
 "metadata": {
  "kernelspec": {
   "display_name": "Python 2",
   "language": "python",
   "name": "python2"
  },
  "language_info": {
   "codemirror_mode": {
    "name": "ipython",
    "version": 2
   },
   "file_extension": ".py",
   "mimetype": "text/x-python",
   "name": "python",
   "nbconvert_exporter": "python",
   "pygments_lexer": "ipython2",
   "version": "2.7.15"
  }
 },
 "nbformat": 4,
 "nbformat_minor": 1
}
