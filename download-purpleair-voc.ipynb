{
 "cells": [
  {
   "cell_type": "markdown",
   "metadata": {},
   "source": [
    "# Download PurpleAir VOC\n",
    "\n",
    "Downloads VOC data from public PurpleAir devices within a specific lat/long bounding box (defined in `BOUNDING_BOX`, below).\n",
    "\n",
    "Data is downloaded from PurpleAir every 2.5 minutes and saved as JSON in a `YYYYMMDD` subdirectory of `/esdr-connectors/mirror-purpleair-to-esdr/mirror-voc`."
   ]
  },
  {
   "cell_type": "code",
   "execution_count": null,
   "metadata": {},
   "outputs": [],
   "source": [
    "import os, re, json, datetime, requests, html, time"
   ]
  },
  {
   "cell_type": "code",
   "execution_count": null,
   "metadata": {},
   "outputs": [],
   "source": [
    "# Boilerplate to load utils.ipynb\n",
    "# See https://github.com/CMU-CREATE-Lab/python-utils/blob/master/utils.ipynb\n",
    "\n",
    "def exec_ipynb(filename_or_url):\n",
    "    nb = (requests.get(filename_or_url).json() if re.match(r'https?:', filename_or_url) else json.load(open(filename_or_url)))\n",
    "    if(nb['nbformat'] >= 4):\n",
    "        src = [''.join(cell['source']) for cell in nb['cells'] if cell['cell_type'] == 'code']\n",
    "    else:\n",
    "        src = [''.join(cell['input']) for cell in nb['worksheets'][0]['cells'] if cell['cell_type'] == 'code']\n",
    "\n",
    "    tmpname = '/tmp/%s-%s-%d.py' % (os.path.basename(filename_or_url),\n",
    "                                    datetime.datetime.now().strftime('%Y%m%d%H%M%S%f'),\n",
    "                                    os.getpid())\n",
    "    src = '\\n\\n\\n'.join(src)\n",
    "    open(tmpname, 'w').write(src)\n",
    "    code = compile(src, tmpname, 'exec')\n",
    "    exec(code, globals())\n",
    "\n",
    "exec_ipynb('./python-utils/utils.ipynb')\n",
    "exec_ipynb('./purpleair-common.ipynb')"
   ]
  },
  {
   "cell_type": "code",
   "execution_count": null,
   "metadata": {},
   "outputs": [],
   "source": [
    "STAT_SERVICE_NAME = 'PurpleAir Download VOC'\n",
    "STAT_HOSTNAME = 'hal21'\n",
    "STAT_SHORTNAME = 'purpleair-download-voc'\n",
    "\n",
    "Stat.set_service(STAT_SERVICE_NAME)"
   ]
  },
  {
   "cell_type": "code",
   "execution_count": null,
   "metadata": {},
   "outputs": [],
   "source": [
    "RUN_INTERVAL_SECONDS = 60 * 2.5    # every 2.5 minutes\n",
    "\n",
    "DEFAULT_HTTP_RETRY_SECONDS = 20\n",
    "\n",
    "BOUNDING_BOX = {\n",
    "    'nw': {\n",
    "        'lat': 45.41701469532239,\n",
    "        'lon': -84.8975200699811\n",
    "        },\n",
    "    'se': {\n",
    "        'lat': 34.884595781069194,\n",
    "        'lon': -77.4944799300174\n",
    "        }\n",
    "    }\n",
    "\n",
    "URL = PurpleAirCommon.ROOT_URL + f\"?opt=1/e/mVOC/a10/cC0&fetch=true&nwlat={BOUNDING_BOX['nw']['lat']}&selat={BOUNDING_BOX['se']['lat']}&nwlng={BOUNDING_BOX['nw']['lon']}&selng={BOUNDING_BOX['se']['lon']}&fields=voc\""
   ]
  },
  {
   "cell_type": "code",
   "execution_count": null,
   "metadata": {},
   "outputs": [],
   "source": [
    "# Repeatedly attempts to fetch the JSON from PurpleAir. Upon success, returns a tuple of\n",
    "# the JSON, epoch timestamp of the request, and a suggested filename path (constructed from\n",
    "# date and time of the request). Upon failure, it waits for some amount of time and then retries.\n",
    "def fetch_json(url):\n",
    "    while True:\n",
    "        sleep_time_secs = DEFAULT_HTTP_RETRY_SECONDS\n",
    "        dest_path = datetime.datetime.utcnow().strftime(PurpleAirCommon.VOC_DATA_DIRECTORY + '/%Y%m%d/%H%M%Sutc.json')\n",
    "        timestamp = datetime.datetime.now().timestamp()\n",
    "        response = requests.get(url, timeout=120)\n",
    "        if response.status_code == 200:\n",
    "            try:\n",
    "                return response.json(), timestamp, dest_path\n",
    "            except Exception as ex:\n",
    "                Stat.warning(f\"Exception {ex} parsing result from {url}\", host=STAT_HOSTNAME, shortname=STAT_SHORTNAME)\n",
    "        elif response.status_code == 429:\n",
    "            response_json = response.json()\n",
    "            if response_json:\n",
    "                message = response_json['message']\n",
    "\n",
    "                # use regex to try to pick out the suggested wait time\n",
    "                search_result = re.search('^Rate limit exceeded. Try again in (\\d+) milli seconds.$', message)\n",
    "                if search_result:\n",
    "                    sleep_time_secs = int(search_result.group(1)) / 1000\n",
    "                Stat.warning(f\"Rate limit exceeded, sleeping for {sleep_time_secs} seconds.\", host=STAT_HOSTNAME, shortname=STAT_SHORTNAME)\n",
    "            else:\n",
    "                Stat.warning(f\"Rate limit exceeded, but could not determine suggested wait time.  Sleeping for {sleep_time_secs} seconds.\", host=STAT_HOSTNAME, shortname=STAT_SHORTNAME)\n",
    "\n",
    "        else:\n",
    "            Stat.warning('Response code %d from %s: %s' % (response.status_code, url, html.escape(response.text)), host=STAT_HOSTNAME, shortname=STAT_SHORTNAME)\n",
    "\n",
    "        time.sleep(sleep_time_secs)"
   ]
  },
  {
   "cell_type": "code",
   "execution_count": null,
   "metadata": {},
   "outputs": [],
   "source": [
    "def extract_voc_records(data):\n",
    "    fields = data['fields']\n",
    "    records = data['data']\n",
    "    num_voc = 0;\n",
    "    voc_records = {};\n",
    "    for r in records:\n",
    "        try:\n",
    "            record = dict(zip(fields, r))\n",
    "            if record['Voc'] is not None:\n",
    "                num_voc += 1\n",
    "                voc_records[record['ID']] = {\n",
    "                    'lat' : record['Lat'],\n",
    "                    'lon' : record['Lon'],\n",
    "                    'voc' : record['Voc']\n",
    "                }\n",
    "        except Exception as ex:\n",
    "            Stat.warning(f\"Skipping record with unexpected number of fields: {r}\", host=STAT_HOSTNAME, shortname=STAT_SHORTNAME)\n",
    "    return voc_records"
   ]
  },
  {
   "cell_type": "code",
   "execution_count": null,
   "metadata": {},
   "outputs": [],
   "source": [
    "def write_json_file(data, filename):\n",
    "    tmp = filename + '.tmp' + str(os.getpid())\n",
    "    os.makedirs(os.path.dirname(tmp), exist_ok=True)\n",
    "    with open(tmp, 'w', encoding='utf8') as json_file:\n",
    "        json.dump(data, json_file, sort_keys=True, ensure_ascii=False)\n",
    "    os.rename(tmp, filename)"
   ]
  },
  {
   "cell_type": "code",
   "execution_count": null,
   "metadata": {},
   "outputs": [],
   "source": [
    "def mirror_once():\n",
    "    global URL\n",
    "    starting_timestamp = datetime.datetime.now().timestamp()\n",
    "\n",
    "    # fetch the JSON\n",
    "    data, request_timestamp, dest_path = fetch_json(URL)\n",
    "\n",
    "    # extract only the VOC records and keep only essential data about the monitor (e.g. ID, lat/lon, VOC value)\n",
    "    voc_data = extract_voc_records(data);\n",
    "\n",
    "    # if we got data, then write the JSON to disk\n",
    "    if voc_data is not None and len(voc_data) > 0:\n",
    "        # insert the request_timestamp into the json, and write to disk\n",
    "        json_data = {'epoch_time' : request_timestamp, 'monitors' : voc_data}\n",
    "        write_json_file(json_data, dest_path)\n",
    "\n",
    "        elapsed_seconds = datetime.datetime.now().timestamp() - starting_timestamp\n",
    "        Stat.up(f\"Downloaded VOC data for {len(voc_data)} monitors, saved to {dest_path}\", details='Elapsed time: %.1f s' % (elapsed_seconds), host=STAT_HOSTNAME, shortname=STAT_SHORTNAME, valid_for_secs=RUN_INTERVAL_SECONDS * 1.5)\n",
    "    else:\n",
    "        Stat.down(f\"No VOC data found\", host=STAT_HOSTNAME, shortname=STAT_SHORTNAME, valid_for_secs=RUN_INTERVAL_SECONDS * 1.5)"
   ]
  },
  {
   "cell_type": "code",
   "execution_count": null,
   "metadata": {},
   "outputs": [],
   "source": [
    "def mirror_forever():\n",
    "    while True:\n",
    "        mirror_once()\n",
    "        sleep_until_next_period(RUN_INTERVAL_SECONDS)"
   ]
  },
  {
   "cell_type": "code",
   "execution_count": null,
   "metadata": {},
   "outputs": [],
   "source": [
    "mirror_forever()"
   ]
  }
 ],
 "metadata": {
  "kernelspec": {
   "display_name": "Anaconda Python3",
   "language": "python",
   "name": "anaconda3",
   "resource_dir": "/usr/local/share/jupyter/kernels/anaconda3"
  },
  "language_info": {
   "codemirror_mode": {
    "name": "ipython",
    "version": 3
   },
   "file_extension": ".py",
   "mimetype": "text/x-python",
   "name": "python",
   "nbconvert_exporter": "python",
   "pygments_lexer": "ipython3",
   "version": "3.8.5"
  }
 },
 "nbformat": 4,
 "nbformat_minor": 4
}
