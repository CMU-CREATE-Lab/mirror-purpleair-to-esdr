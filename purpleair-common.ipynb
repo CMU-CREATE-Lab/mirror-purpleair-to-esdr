{
 "cells": [
  {
   "cell_type": "markdown",
   "metadata": {},
   "source": [
    "# PurpleAir Common\n",
    "\n",
    "Constants and functions common to the various PurpleAir scripts."
   ]
  },
  {
   "cell_type": "code",
   "execution_count": null,
   "metadata": {},
   "outputs": [],
   "source": [
    "class PurpleAirCommonInstance:\n",
    "    ROOT_URL = 'https://www.purpleair.com/data.json'\n",
    "\n",
    "    VOC_DATA_DIRECTORY = './mirror-voc'\n",
    "\n",
    "PurpleAirCommon = PurpleAirCommonInstance()"
   ]
  }
 ],
 "metadata": {
  "kernelspec": {
   "display_name": "Anaconda Python3",
   "language": "python",
   "name": "anaconda3",
   "resource_dir": "/usr/local/share/jupyter/kernels/anaconda3"
  },
  "language_info": {
   "codemirror_mode": {
    "name": "ipython",
    "version": 3
   },
   "file_extension": ".py",
   "mimetype": "text/x-python",
   "name": "python",
   "nbconvert_exporter": "python",
   "pygments_lexer": "ipython3",
   "version": "3.8.5"
  }
 },
 "nbformat": 4,
 "nbformat_minor": 4
}
