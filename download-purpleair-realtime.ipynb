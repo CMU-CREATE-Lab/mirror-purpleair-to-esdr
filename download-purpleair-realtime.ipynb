{
 "cells": [
  {
   "cell_type": "code",
   "execution_count": 0,
   "metadata": {
    "collapsed": false
   },
   "outputs": [
   ],
   "source": [
    "# Wide display\n",
    "from IPython.core.display import display, HTML\n",
    "display(HTML(\"<style>#notebook-container { margin-left:-14px; width:calc(100% + 27px) !important; }</style>\"))"
   ]
  },
  {
   "cell_type": "code",
   "execution_count": 0,
   "metadata": {
    "collapsed": false
   },
   "outputs": [
   ],
   "source": [
    "import json, os, re, requests, subprocess\n",
    "\n",
    "if not os.path.exists('python-utils'):\n",
    "    subprocess.check_output('git clone https://github.com/CMU-CREATE-Lab/python-utils.git', shell=True)\n",
    "\n",
    "def exec_ipynb(filename_or_url):\n",
    "    nb = (requests.get(filename_or_url).json() if re.match(r'https?:', filename_or_url) else json.load(open(filename_or_url)))\n",
    "    if(nb['nbformat'] >= 4):\n",
    "        src = [''.join(cell['source']) for cell in nb['cells'] if cell['cell_type'] == 'code']\n",
    "    else:\n",
    "        src = [''.join(cell['input']) for cell in nb['worksheets'][0]['cells'] if cell['cell_type'] == 'code']\n",
    "    exec('\\n'.join(src), globals())\n",
    "\n",
    "exec_ipynb('python-utils/utils.ipynb')\n",
    "notebook_wide_display()"
   ]
  },
  {
   "cell_type": "code",
   "execution_count": 0,
   "metadata": {
    "collapsed": false
   },
   "outputs": [
   ],
   "source": [
    "import bz2, html\n",
    "\n",
    "STAT_SERVICE_NAME = 'Purpleair download realtime'\n",
    "STAT_HOSTNAME = 'hal21'\n",
    "STAT_SHORTNAME = 'purpleair-download-realtime'\n",
    "\n",
    "Stat.set_service(STAT_SERVICE_NAME)"
   ]
  },
  {
   "cell_type": "code",
   "execution_count": 0,
   "metadata": {
    "collapsed": false
   },
   "outputs": [
   ],
   "source": [
    "while True:\n",
    "    while True:\n",
    "        url = 'https://www.purpleair.com/json'\n",
    "        dest_path = datetime.datetime.utcnow().strftime('mirror/%Y%m%d/%H%M%Sutc.json.bz2')\n",
    "        response = requests.get(url, timeout=120)\n",
    "        if response.status_code == 200:\n",
    "            try:\n",
    "                js = response.json()\n",
    "                devices = js['results']\n",
    "                break\n",
    "            except Exception as ex:\n",
    "                Stat.warning('Exception %s parsing result from %s' % (ex, url), host=STAT_HOSTNAME, shortname=STAT_SHORTNAME)\n",
    "        else:\n",
    "            Stat.warning('Response code %d from %s: %s' % (response.status_code, url, html.escape(response.text)), host=STAT_HOSTNAME, shortname=STAT_SHORTNAME)\n",
    "        time.sleep(20)\n",
    "\n",
    "    os.makedirs(os.path.dirname(dest_path), exist_ok=True)\n",
    "    tmp_path = '%s-%d.tmp' % (dest_path, os.getpid())\n",
    "    bz2.open(tmp_path, 'wb').write(response.content)\n",
    "    os.rename(tmp_path, dest_path)\n",
    "    Stat.up('Received and compressed %d devices (%.1f KB) to %s (%.1f KB)' % (len(devices), len(response.content)/1e3, dest_path, os.path.getsize(dest_path)/1e3),\n",
    "            host=STAT_HOSTNAME, shortname=STAT_SHORTNAME, valid_for_secs=5*60)\n",
    "    sleep_until_next_period(150)"
   ]
  }
 ],
 "metadata": {
  "kernelspec": {
   "display_name": "Python 3",
   "language": "python",
   "name": "python3"
  },
  "language_info": {
   "codemirror_mode": {
    "name": "ipython",
    "version": 3
   },
   "file_extension": ".py",
   "mimetype": "text/x-python",
   "name": "python",
   "nbconvert_exporter": "python",
   "pygments_lexer": "ipython3",
   "version": "3.6.9"
  }
 },
 "nbformat": 4,
 "nbformat_minor": 4
}