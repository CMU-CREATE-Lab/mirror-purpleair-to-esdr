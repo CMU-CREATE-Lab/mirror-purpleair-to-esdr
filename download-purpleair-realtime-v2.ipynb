{
 "cells": [
  {
   "cell_type": "code",
   "execution_count": 1,
   "metadata": {
    "collapsed": false
   },
   "outputs": [
    {
     "data": {
      "text/html": [
       "<style>#notebook-container { margin-left:-14px; width:calc(100% + 27px) !important; }</style>"
      ],
      "text/plain": [
       "<IPython.core.display.HTML object>"
      ]
     },
     "metadata": {},
     "output_type": "display_data"
    }
   ],
   "source": [
    "import json, os, re, requests, subprocess, sys\n",
    "\n",
    "# if not os.path.exists('python-utils'):\n",
    "#     subprocess.check_output('git clone https://github.com/CMU-CREATE-Lab/python-utils.git', shell=True)\n",
    "\n",
    "# def exec_ipynb(filename_or_url):\n",
    "#     nb = (requests.get(filename_or_url).json() if re.match(r'https?:', filename_or_url) else json.load(open(filename_or_url)))\n",
    "#     if(nb['nbformat'] >= 4):\n",
    "#         src = [''.join(cell['source']) for cell in nb['cells'] if cell['cell_type'] == 'code']\n",
    "#     else:\n",
    "#         src = [''.join(cell['input']) for cell in nb['worksheets'][0]['cells'] if cell['cell_type'] == 'code']\n",
    "#     exec('\\n'.join(src), globals())\n",
    "\n",
    "# exec_ipynb('python-utils/utils.ipynb')\n",
    "# notebook_wide_display()"
   ]
  },
  {
   "cell_type": "code",
   "execution_count": null,
   "metadata": {},
   "outputs": [],
   "source": [
    "# Boilerplate to load utils.ipynb\n",
    "# See https://github.com/CMU-CREATE-Lab/python-utils/blob/master/utils.ipynb\n",
    "\n",
    "\n",
    "def exec_ipynb(filename_or_url):\n",
    "    nb = (requests.get(filename_or_url).json() if re.match(r'https?:', filename_or_url) else json.load(open(filename_or_url)))\n",
    "    if(nb['nbformat'] >= 4):\n",
    "        src = [''.join(cell['source']) for cell in nb['cells'] if cell['cell_type'] == 'code']\n",
    "    else:\n",
    "        src = [''.join(cell['input']) for cell in nb['worksheets'][0]['cells'] if cell['cell_type'] == 'code']\n",
    "\n",
    "    tmpname = '/tmp/%s-%s-%d.py' % (os.path.basename(filename_or_url),\n",
    "                                    datetime.datetime.now().strftime('%Y%m%d%H%M%S%f'),\n",
    "                                    os.getpid())\n",
    "    src = '\\n\\n\\n'.join(src)\n",
    "    open(tmpname, 'w').write(src)\n",
    "    code = compile(src, tmpname, 'exec')\n",
    "    exec(code, globals())\n",
    "\n",
    "\n",
    "exec_ipynb('./python-utils/utils.ipynb')\n"
   ]
  },
  {
   "cell_type": "code",
   "execution_count": 7,
   "metadata": {
    "collapsed": false
   },
   "outputs": [],
   "source": [
    "import bz2, html\n",
    "\n",
    "STAT_SERVICE_NAME = 'Purpleair download realtime v2'\n",
    "STAT_HOSTNAME = 'hal21'\n",
    "STAT_SHORTNAME = 'purpleair-download-realtime v2'\n",
    "\n",
    "Stat.set_service(STAT_SERVICE_NAME)"
   ]
  },
  {
   "cell_type": "code",
   "execution_count": 5,
   "metadata": {},
   "outputs": [],
   "source": [
    "import urllib.request, urllib.parse\n",
    "\n",
    "req = urllib.request.Request(\n",
    "    \"https://map.purpleair.com/token?version=1.8.52\", \n",
    "    data=None, \n",
    "    headers={\n",
    "        'User-Agent': 'Mozilla/5.0 (Windows NT 6.1; Win64; x64) AppleWebKit/537.36 (KHTML, like Gecko) Chrome/102.0.5005.63 Safari/537.36',\n",
    "        'Referer': 'https://map.purpleair.com'\n",
    "    }\n",
    ")\n",
    "\n",
    "response = urllib.request.urlopen(req)\n",
    "TOKEN = urllib.parse.quote(response.read().decode('utf-8'))"
   ]
  },
  {
   "cell_type": "code",
   "execution_count": 8,
   "metadata": {
    "collapsed": false
   },
   "outputs": [],
   "source": [
    "# max_age=300 means look for devices that have uploaded in the last 5 minutes\n",
    "url = f'https://map.purpleair.com/v1/sensors?token={TOKEN}&fields=name,location_type,latitude,longitude,altitude,last_seen,channel_state,channel_flags,confidence,voc,ozone1,humidity,pressure,temperature,pm2.5,pm2.5_a,pm2.5_b&max_age=300&nwlat=85&selat=-85&nwlng=-180&selng=180'\n",
    "dest_path = datetime.datetime.utcnow().strftime('mirror2/%Y%m%d/%H%M%Sutc.json.bz2')\n",
    "response = requests.get(url, timeout=120)\n",
    "if response.status_code == 200:\n",
    "    try:\n",
    "        js = response.json()\n",
    "    except Exception as ex:\n",
    "        # print('error parsing as json')\n",
    "        Stat.warning('Exception %s parsing result from %s' % (ex, url), host=STAT_HOSTNAME, shortname=STAT_SHORTNAME)\n",
    "        sys.exit()\n",
    "else:\n",
    "    # print('Response code %d from %s: %s' % (response.status_code, url, html.escape(response.text)))\n",
    "    Stat.warning('Response code %d from %s: %s' % (response.status_code, url, html.escape(response.text)), host=STAT_HOSTNAME, shortname=STAT_SHORTNAME)\n",
    "    sys.exit()\n",
    "# time.sleep(20)\n",
    "\n",
    "os.makedirs(os.path.dirname(dest_path), exist_ok=True)\n",
    "tmp_path = '%s-%d.tmp' % (dest_path, os.getpid())\n",
    "bz2.open(tmp_path, 'wb').write(response.content)\n",
    "os.rename(tmp_path, dest_path)\n",
    "Stat.up('Received and compressed %d devices (%.1f KB) to %s (%.1f KB)' % (len(js['data']), len(response.content)/1e3, dest_path, os.path.getsize(dest_path)/1e3),\n",
    "        host=STAT_HOSTNAME, shortname=STAT_SHORTNAME, valid_for_secs=5*60)\n",
    "# sleep_until_next_period(150)"
   ]
  }
 ],
 "metadata": {
  "interpreter": {
   "hash": "88ccf14db98d8c5ffc7dfc032f8885d6bd103005d67bc8f7e90175b13672a1c6"
  },
  "kernelspec": {
   "display_name": "Python 3.7.3 ('base')",
   "language": "python",
   "name": "python3"
  },
  "language_info": {
   "codemirror_mode": {
    "name": "ipython",
    "version": 3
   },
   "file_extension": ".py",
   "mimetype": "text/x-python",
   "name": "python",
   "nbconvert_exporter": "python",
   "pygments_lexer": "ipython3",
   "version": "3.7.3"
  }
 },
 "nbformat": 4,
 "nbformat_minor": 4
}
